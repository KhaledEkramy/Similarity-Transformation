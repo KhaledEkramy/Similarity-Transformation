{
 "cells": [
  {
   "cell_type": "markdown",
   "metadata": {},
   "source": [
    "# Content"
   ]
  },
  {
   "cell_type": "markdown",
   "metadata": {},
   "source": [
    "## Tools"
   ]
  },
  {
   "cell_type": "markdown",
   "metadata": {},
   "source": [
    "* ### **Python**\n",
    "* ### **numPy**\n",
    "* ### **matplotlib**\n",
    "* ### **google colab**"
   ]
  },
  {
   "cell_type": "code",
   "execution_count": null,
   "metadata": {},
   "outputs": [],
   "source": [
    "import numpy as np\n",
    "import matplotlib.pyplot as plt"
   ]
  },
  {
   "cell_type": "markdown",
   "metadata": {},
   "source": [
    "## Similarity Transformation"
   ]
  },
  {
   "cell_type": "markdown",
   "metadata": {},
   "source": [
    "### To Linear Algebra and beyond"
   ]
  },
  {
   "cell_type": "markdown",
   "metadata": {},
   "source": [
    "#### Transponse of a matrix."
   ]
  },
  {
   "cell_type": "markdown",
   "metadata": {},
   "source": [
    "$$\n",
    "\\mathbf{X}^T = \\begin{bmatrix}\n",
    "X_{11} & X_{21} & \\cdots & X_{m1} \\\\\n",
    "X_{12} & X_{22} & \\cdots & X_{m2} \\\\\n",
    "\\vdots & \\vdots & \\ddots & \\vdots \\\\\n",
    "X_{1n} & X_{2n} & \\cdots & X_{mn}\n",
    "\\end{bmatrix}\\\n",
    "$$"
   ]
  },
  {
   "cell_type": "markdown",
   "metadata": {
    "heading_collapsed": true
   },
   "source": [
    "#### Inverse of a matrix **X**"
   ]
  },
  {
   "cell_type": "markdown",
   "metadata": {
    "heading_collapsed": true,
    "hidden": true
   },
   "source": [
    "##### Conditions"
   ]
  },
  {
   "cell_type": "markdown",
   "metadata": {
    "hidden": true
   },
   "source": [
    "1. **X** must be a square matrix\n",
    "2. Non-Zero Determinant matrix\n",
    "3. Full Rank **All Row or\"Columns\" Must be linearly independent**\n",
    "    "
   ]
  },
  {
   "cell_type": "code",
   "execution_count": null,
   "metadata": {
    "hidden": true
   },
   "outputs": [],
   "source": [
    "# Example where all columns of A are linearly independent\n",
    "A = np.array([[1, 2], [3, 4]])\n",
    "B = np.linalg.inv(A)\n",
    "np.dot(A, B) # A^-1 . A = I"
   ]
  },
  {
   "cell_type": "code",
   "execution_count": null,
   "metadata": {
    "hidden": true
   },
   "outputs": [],
   "source": [
    "# Example where all colunns of A are linearly dependent\n",
    "A = np.array([[1, 2], \n",
    "               [2, 4]])\n",
    "B = np.linalg.inv(A)\n",
    "np.dot(A, B)"
   ]
  },
  {
   "cell_type": "markdown",
   "metadata": {
    "heading_collapsed": true
   },
   "source": [
    "#### Intuition behind Transformation"
   ]
  },
  {
   "cell_type": "markdown",
   "metadata": {
    "hidden": true
   },
   "source": [
    "$$\n",
    "\\mathbf{T}(\\mathbf{\\vec{v}}) = \\mathbf{\\matrix{A}} \\cdot \\mathbf{\\vec{v}}\n",
    "$$"
   ]
  },
  {
   "cell_type": "markdown",
   "metadata": {
    "hidden": true
   },
   "source": [
    "$$\n",
    "\\text{What is Transformation?} \\\\\n",
    "\\text{A transformation is an operation that takes an input vector and produces a new output vector according to some defined rule.} \\\\ \\\\\n",
    "\\text{The intuition behind span is that: if i have a set of vectors and i transformed all of them using the same}\\\\\n",
    "\\text{transformation matrix} \\matrix{A} \\text{it will map all of them from the previous span that} \\\\\n",
    "\\text{was including all of them to a new span that will also include all of them \"Think of Reflection as an example\"}\n",
    "$$"
   ]
  },
  {
   "cell_type": "markdown",
   "metadata": {
    "heading_collapsed": true,
    "hidden": true
   },
   "source": [
    "##### Some Examples to build your intuition"
   ]
  },
  {
   "cell_type": "markdown",
   "metadata": {
    "heading_collapsed": true,
    "hidden": true
   },
   "source": [
    "###### Reflection"
   ]
  },
  {
   "cell_type": "markdown",
   "metadata": {
    "hidden": true
   },
   "source": [
    "$$\n",
    "\\text{If you apply a transformation to reflect a set of vectors around the x-axis, the span of the vectors will} \\\\\n",
    "\\text{still lie in the same plane (the 2D plane in this case), but the orientation of the vectors will change.}\n",
    "$$"
   ]
  },
  {
   "cell_type": "markdown",
   "metadata": {
    "hidden": true
   },
   "source": [
    "$$\n",
    "\\text{The Transformation matrix which used to reflect vectors around the x-axis is} \\\\\n",
    "\\mathbf{\\matrix{A}} = \\begin{bmatrix}\n",
    "1 & 0 \\\\\n",
    "0 & -1\n",
    "\\end{bmatrix}\n",
    "$$"
   ]
  },
  {
   "cell_type": "markdown",
   "metadata": {
    "heading_collapsed": true,
    "hidden": true
   },
   "source": [
    "###### Still Not Sure ??!!"
   ]
  },
  {
   "cell_type": "code",
   "execution_count": null,
   "metadata": {
    "hidden": true
   },
   "outputs": [],
   "source": [
    "import numpy as np\n",
    "import matplotlib.pyplot as plt\n",
    "\n",
    "# Define a set of vectors\n",
    "vectors = np.array([[1, 2], [3, 4], [-2, 3]])\n",
    "\n",
    "# Define the reflection matrix (e.g., reflection over the x-axis)\n",
    "reflection_matrix = np.array([[1, 0],\n",
    "                              [0, -1]])\n",
    "\n",
    "# Apply the reflection matrix to the vectors\n",
    "reflected_vectors = vectors.dot(reflection_matrix)\n",
    "\n",
    "# Define different colors for each vector and its reflection\n",
    "colors = ['b', 'g', 'm']\n",
    "\n",
    "# Plot the original and reflected vectors with associated colors\n",
    "plt.figure(figsize=(6, 6))\n",
    "\n",
    "for i in range(len(vectors)):\n",
    "    # Plot original vectors (with unique color)\n",
    "    plt.quiver(0, 0, vectors[i, 0], vectors[i, 1], angles='xy', scale_units='xy', scale=1, color=colors[i], alpha=0.5)\n",
    "    # Plot reflected vectors (with the same color as the original vector)\n",
    "    plt.quiver(0, 0, reflected_vectors[i, 0], reflected_vectors[i, 1], angles='xy', scale_units='xy', scale=1, color=colors[i], alpha=0.5)\n",
    "\n",
    "# Set limits for better visualization\n",
    "plt.xlim(-5, 5)\n",
    "plt.ylim(-5, 5)\n",
    "\n",
    "# Add grid, labels, and legend\n",
    "plt.axhline(0, color='black',linewidth=0.5)\n",
    "plt.axvline(0, color='black',linewidth=0.5)\n",
    "plt.grid(True)\n",
    "plt.gca().set_aspect('equal', adjustable='box')\n",
    "plt.title('Reflection of Vectors Around the X-Axis')\n",
    "plt.show()\n"
   ]
  },
  {
   "cell_type": "markdown",
   "metadata": {},
   "source": [
    "#### Eigenvalues and Eigenvectors"
   ]
  },
  {
   "cell_type": "markdown",
   "metadata": {},
   "source": []
  },
  {
   "cell_type": "markdown",
   "metadata": {},
   "source": []
  },
  {
   "cell_type": "markdown",
   "metadata": {},
   "source": []
  },
  {
   "cell_type": "markdown",
   "metadata": {},
   "source": []
  },
  {
   "cell_type": "markdown",
   "metadata": {
    "heading_collapsed": true
   },
   "source": [
    "### Similarity Transformation in Control Systems"
   ]
  },
  {
   "cell_type": "markdown",
   "metadata": {},
   "source": [
    "## Resources"
   ]
  },
  {
   "cell_type": "markdown",
   "metadata": {},
   "source": [
    "### Youtube videos"
   ]
  },
  {
   "cell_type": "markdown",
   "metadata": {},
   "source": [
    "#### [Similarity Transofrmation and Diagonalization by Christopher Lum](https://www.youtube.com/watch?v=wvRlvDYDIgw)"
   ]
  },
  {
   "cell_type": "markdown",
   "metadata": {},
   "source": [
    "#### [Similar Matrices By Gilbert Strang \"MIT\"](https://www.youtube.com/watch?v=LKMGo8G7-vk)"
   ]
  },
  {
   "cell_type": "markdown",
   "metadata": {},
   "source": [
    "#### [Example on applying similarity transformation on Linear Dynamic Model](https://www.youtube.com/watch?v=XMkLNHUmTQM)"
   ]
  },
  {
   "cell_type": "markdown",
   "metadata": {},
   "source": [
    "### Github used Repositories"
   ]
  },
  {
   "cell_type": "markdown",
   "metadata": {},
   "source": [
    "1. [Intro to linear Algebra by John Krohn part-1](https://github.com/jonkrohn/ML-foundations/blob/master/notebooks/1-intro-to-linear-algebra.ipynb)\n",
    "2. [Intro to Linear Algebra by John Krohn part-2](https://github.com/jonkrohn/ML-foundations/blob/master/notebooks/2-linear-algebra-ii.ipynb)"
   ]
  }
 ],
 "metadata": {
  "celltoolbar": "Raw Cell Format",
  "kernelspec": {
   "display_name": "Python 3 (ipykernel)",
   "language": "python",
   "name": "python3"
  },
  "language_info": {
   "codemirror_mode": {
    "name": "ipython",
    "version": 3
   },
   "file_extension": ".py",
   "mimetype": "text/x-python",
   "name": "python",
   "nbconvert_exporter": "python",
   "pygments_lexer": "ipython3",
   "version": "3.12.3"
  }
 },
 "nbformat": 4,
 "nbformat_minor": 2
}
