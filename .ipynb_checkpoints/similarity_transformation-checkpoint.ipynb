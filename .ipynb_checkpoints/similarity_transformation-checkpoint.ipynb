{
 "cells": [
  {
   "cell_type": "markdown",
   "metadata": {},
   "source": [
    "# Content"
   ]
  },
  {
   "cell_type": "markdown",
   "metadata": {
    "heading_collapsed": true
   },
   "source": [
    "## Tools"
   ]
  },
  {
   "cell_type": "markdown",
   "metadata": {
    "hidden": true
   },
   "source": [
    "* ### **Python**\n",
    "* ### **numPy**\n",
    "* ### **matplotlib**\n",
    "* ### **google colab**"
   ]
  },
  {
   "cell_type": "code",
   "execution_count": null,
   "metadata": {
    "hidden": true
   },
   "outputs": [],
   "source": [
    "import numpy as np\n",
    "import math\n",
    "import matplotlib.pyplot as plt\n",
    "import plotly.graph_objects as go\n",
    "import time\n",
    "from IPython.display import display, clear_output"
   ]
  },
  {
   "cell_type": "markdown",
   "metadata": {
    "heading_collapsed": true
   },
   "source": [
    "## From Linear Algebra to Similarity Transformation"
   ]
  },
  {
   "cell_type": "markdown",
   "metadata": {
    "heading_collapsed": true,
    "hidden": true
   },
   "source": [
    "### To Linear Algebra and beyond"
   ]
  },
  {
   "cell_type": "markdown",
   "metadata": {
    "heading_collapsed": true,
    "hidden": true
   },
   "source": [
    "#### Transponse of a matrix."
   ]
  },
  {
   "cell_type": "markdown",
   "metadata": {
    "hidden": true
   },
   "source": [
    "$$\n",
    "\\mathbf{X}^T = \\begin{bmatrix}\n",
    "X_{11} & X_{21} & \\cdots & X_{m1} \\\\\n",
    "X_{12} & X_{22} & \\cdots & X_{m2} \\\\\n",
    "\\vdots & \\vdots & \\ddots & \\vdots \\\\\n",
    "X_{1n} & X_{2n} & \\cdots & X_{mn}\n",
    "\\end{bmatrix}\\\n",
    "$$"
   ]
  },
  {
   "cell_type": "markdown",
   "metadata": {
    "heading_collapsed": true,
    "hidden": true
   },
   "source": [
    "#### Inverse of a matrix **X**"
   ]
  },
  {
   "cell_type": "markdown",
   "metadata": {
    "heading_collapsed": true,
    "hidden": true
   },
   "source": [
    "##### Conditions"
   ]
  },
  {
   "cell_type": "markdown",
   "metadata": {
    "hidden": true
   },
   "source": [
    "1. **X** must be a square matrix\n",
    "2. Non-Zero Determinant matrix\n",
    "3. Full Rank **All Row or\"Columns\" Must be linearly independent**\n",
    "    "
   ]
  },
  {
   "cell_type": "code",
   "execution_count": null,
   "metadata": {
    "hidden": true
   },
   "outputs": [],
   "source": [
    "# Example where all columns of A are linearly independent\n",
    "A = np.array([[1, 2], [3, 4]])\n",
    "B = np.linalg.inv(A)\n",
    "np.dot(A, B) # A^-1 . A = I"
   ]
  },
  {
   "cell_type": "code",
   "execution_count": null,
   "metadata": {
    "hidden": true
   },
   "outputs": [],
   "source": [
    "# Example where all colunns of A are linearly dependent\n",
    "A = np.array([[1, 2], \n",
    "               [2, 4]])\n",
    "B = np.linalg.inv(A)\n",
    "np.dot(A, B)"
   ]
  },
  {
   "cell_type": "code",
   "execution_count": null,
   "metadata": {
    "hidden": true
   },
   "outputs": [],
   "source": [
    "# Showing that det(T^-1) = 1 / det(T)\n",
    "A = np.array([[1, 2], [3, 4]])\n",
    "print(f'det(A) = {np.linalg.det(A): 0.0f}') #det(A)\n",
    "print(f'det(A^-1) = {(1 / np.linalg.det(np.linalg.inv(A))):0.0f}')"
   ]
  },
  {
   "cell_type": "markdown",
   "metadata": {
    "heading_collapsed": true,
    "hidden": true
   },
   "source": [
    "#### Intuition behind Transformation"
   ]
  },
  {
   "cell_type": "markdown",
   "metadata": {
    "hidden": true
   },
   "source": [
    "$$\n",
    "\\mathbf{T}(\\mathbf{\\vec{v}}) = \\mathbf{\\matrix{A}} \\cdot \\mathbf{\\vec{v}}\n",
    "$$"
   ]
  },
  {
   "cell_type": "markdown",
   "metadata": {
    "hidden": true
   },
   "source": [
    "$$\n",
    "\\text{What is Transformation?} \\\\\n",
    "\\text{A transformation is an operation that takes an input vector and produces a new output vector according to some defined rule.} \\\\ \\\\\n",
    "\\text{The intuition behind span is that: if i have a set of vectors and i transformed all of them using the same}\\\\\n",
    "\\text{transformation matrix} \\matrix{A} \\text{it will map all of them from the previous span that} \\\\\n",
    "\\text{was including all of them to a new span that will also include all of them \"Think of Reflection as an example\"}\n",
    "$$"
   ]
  },
  {
   "cell_type": "markdown",
   "metadata": {
    "hidden": true
   },
   "source": [
    "##### Some Examples to build your intuition"
   ]
  },
  {
   "cell_type": "markdown",
   "metadata": {
    "heading_collapsed": true,
    "hidden": true
   },
   "source": [
    "###### Reflection"
   ]
  },
  {
   "cell_type": "markdown",
   "metadata": {
    "hidden": true
   },
   "source": [
    "$$\n",
    "\\text{If you apply a transformation to reflect a set of vectors around the x-axis, the span of the vectors will} \\\\\n",
    "\\text{still lie in the same plane (the 2D plane in this case), but the orientation of the vectors will change.}\n",
    "$$"
   ]
  },
  {
   "cell_type": "markdown",
   "metadata": {
    "hidden": true
   },
   "source": [
    "$$\n",
    "\\text{The Transformation matrix which used to reflect vectors around the x-axis is} \\\\\n",
    "\\mathbf{\\matrix{A}} = \\begin{bmatrix}\n",
    "1 & 0 \\\\\n",
    "0 & -1\n",
    "\\end{bmatrix}\n",
    "$$"
   ]
  },
  {
   "cell_type": "markdown",
   "metadata": {
    "heading_collapsed": true,
    "hidden": true
   },
   "source": [
    "###### Still Not Sure 🤬🤬??!!"
   ]
  },
  {
   "cell_type": "code",
   "execution_count": null,
   "metadata": {
    "hidden": true
   },
   "outputs": [],
   "source": [
    "import numpy as np\n",
    "import matplotlib.pyplot as plt\n",
    "\n",
    "# Define a set of vectors\n",
    "vectors = np.array([[1, 2], [3, 4], [-2, 3]])\n",
    "\n",
    "# Define the reflection matrix (e.g., reflection over the x-axis)\n",
    "reflection_matrix = np.array([[1, 0],\n",
    "                              [0, -1]])\n",
    "\n",
    "# Apply the reflection matrix to the vectors\n",
    "reflected_vectors = vectors.dot(reflection_matrix)\n",
    "\n",
    "# Define different colors for each vector and its reflection\n",
    "colors = ['b', 'g', 'm']\n",
    "\n",
    "# Plot the original and reflected vectors with associated colors\n",
    "plt.figure(figsize=(6, 6))\n",
    "\n",
    "for i in range(len(vectors)):\n",
    "    # Plot original vectors (with unique color)\n",
    "    plt.quiver(0, 0, vectors[i, 0], vectors[i, 1], angles='xy', scale_units='xy', scale=1, color=colors[i], alpha=0.5)\n",
    "    # Plot reflected vectors (with the same color as the original vector)\n",
    "    plt.quiver(0, 0, reflected_vectors[i, 0], reflected_vectors[i, 1], angles='xy', scale_units='xy', scale=1, color=colors[i], alpha=0.5)\n",
    "\n",
    "# Set limits for better visualization\n",
    "plt.xlim(-5, 5)\n",
    "plt.ylim(-5, 5)\n",
    "\n",
    "# Add grid, labels, and legend\n",
    "plt.axhline(0, color='black',linewidth=0.5)\n",
    "plt.axvline(0, color='black',linewidth=0.5)\n",
    "plt.grid(True)\n",
    "plt.gca().set_aspect('equal', adjustable='box')\n",
    "plt.title('Reflection of Vectors Around the X-Axis')\n",
    "plt.show()\n"
   ]
  },
  {
   "cell_type": "markdown",
   "metadata": {
    "heading_collapsed": true,
    "hidden": true
   },
   "source": [
    "###### Playing with transfromation"
   ]
  },
  {
   "cell_type": "code",
   "execution_count": null,
   "metadata": {
    "hidden": true
   },
   "outputs": [],
   "source": [
    "the_point = np.array([100, 100])\n",
    "prev_point = np.array([100, 100])\n",
    "\n",
    "transform_matrix = np.array([[0.9, 0.8], \n",
    "                             [-1, 0.35]]) # to move the starting point on the spiral shape\n",
    "x_points = [prev_point[0]]\n",
    "y_points = [prev_point[1]]\n",
    "\n",
    "for i in range(50):\n",
    "    the_point = np.dot(transform_matrix, prev_point)\n",
    "    x_points.append(the_point[0])\n",
    "    y_points.append(the_point[1])\n",
    "    prev_point = the_point.copy()\n",
    "    fig = go.Figure()\n",
    "\n",
    "    fig.add_trace(go.Scatter(x=x_points, y=y_points, mode='markers+lines', marker=dict(color='blue')))\n",
    "\n",
    "    fig.update_layout(title='The 🌀 Spiral 🌀 Shape', xaxis_title='X-axis', yaxis_title='Y-axis')\n",
    "    clear_output(wait=True)\n",
    "    fig.show()\n",
    "    time.sleep(0.5)"
   ]
  },
  {
   "cell_type": "markdown",
   "metadata": {
    "heading_collapsed": true,
    "hidden": true
   },
   "source": [
    "#### Eigenvalues and Eigenvectors"
   ]
  },
  {
   "cell_type": "markdown",
   "metadata": {
    "hidden": true
   },
   "source": [
    "$$\n",
    "\\mathbf{\\matrix{A}} \\cdot \\vec{v} = λ \\cdot \\vec{v} \\\\\n",
    "\\textbf{Eigenvectors }\\text{are vectors that do not change direction when the transformation is applied} \\\\\n",
    "\\textbf{Eigenvalues } \\text{represent how much the eigenvectors are stretched or shrunk during the transformation.}\n",
    "$$"
   ]
  },
  {
   "cell_type": "markdown",
   "metadata": {
    "heading_collapsed": true,
    "hidden": true
   },
   "source": [
    "##### Still not sure 🤬🤬??!!"
   ]
  },
  {
   "cell_type": "code",
   "execution_count": null,
   "metadata": {
    "hidden": true
   },
   "outputs": [],
   "source": [
    "# Define a square matrix A\n",
    "A = np.array([[4, -2],\n",
    "              [1,  1]])\n",
    "eig_values, eig_vectors = np.linalg.eig(A) # A , lambda, V\n",
    "\n",
    "vec1 = eig_vectors[:, 0]\n",
    "vec2 = eig_vectors[:, 1]\n",
    "value1 = eig_values[0]\n",
    "value2 = eig_values[1]\n",
    "\n",
    "right_side1 = np.dot(A, vec1)\n",
    "left_side1 = np.dot(value1, vec1)\n",
    "\n",
    "right_side2 = np.dot(A, vec2)\n",
    "left_side2 = np.dot(value2, vec2)\n",
    "\n",
    "print(right_side1 == left_side1)\n",
    "print(right_side2 == left_side2)"
   ]
  },
  {
   "cell_type": "markdown",
   "metadata": {
    "heading_collapsed": true,
    "hidden": true
   },
   "source": [
    "##### What about drawing it 🎨🎨!!"
   ]
  },
  {
   "cell_type": "code",
   "execution_count": null,
   "metadata": {
    "hidden": true
   },
   "outputs": [],
   "source": [
    "# Compute the transformed vectors\n",
    "transformed_vec1 = np.dot(A, vec1)\n",
    "transformed_vec2 = np.dot(A, vec2)\n",
    "\n",
    "# Define colors for visualization\n",
    "colors = ['b', 'g']\n",
    "\n",
    "# Plot the eigenvectors and their transformations\n",
    "plt.figure(figsize=(6, 6))\n",
    "\n",
    "# Plot vec1 and its transformation\n",
    "plt.quiver(0, 0, vec1[0], vec1[1], angles='xy', scale_units='xy', scale=1, color=colors[0], alpha=0.7, label=\"vec1\")\n",
    "plt.quiver(0, 0, transformed_vec1[0], transformed_vec1[1], angles='xy', scale_units='xy', scale=1, color=colors[0], alpha=0.3, label=\"A*vec1\")\n",
    "\n",
    "# Plot vec2 and its transformation\n",
    "plt.quiver(0, 0, vec2[0], vec2[1], angles='xy', scale_units='xy', scale=1, color=colors[1], alpha=0.7, label=\"vec2\")\n",
    "plt.quiver(0, 0, transformed_vec2[0], transformed_vec2[1], angles='xy', scale_units='xy', scale=1, color=colors[1], alpha=0.3, label=\"A*vec2\")\n",
    "\n",
    "# Set limits for better visualization\n",
    "plt.xlim(-5, 5)\n",
    "plt.ylim(-5, 5)\n",
    "\n",
    "# Add grid, labels, and legend\n",
    "plt.axhline(0, color='black', linewidth=0.5)\n",
    "plt.axvline(0, color='black', linewidth=0.5)\n",
    "plt.grid(True)\n",
    "plt.gca().set_aspect('equal', adjustable='box')\n",
    "plt.legend()\n",
    "plt.title('Eigenvectors and Their Transformations')\n",
    "plt.show()"
   ]
  },
  {
   "cell_type": "markdown",
   "metadata": {
    "heading_collapsed": true,
    "hidden": true
   },
   "source": [
    "### Similarity Transformation **🥳 finally 🥳** "
   ]
  },
  {
   "cell_type": "markdown",
   "metadata": {
    "hidden": true
   },
   "source": [
    "$$\n",
    "\\text{The mathematical definition of a similarity transformation within the context of linear algebra} \\\\\n",
    "\\text{ (https://en.wikipedia.org/wiki/Matrix_similarity) concerns two n - by - n matrices, }\\matrix{A} \\text{ and } \\tilde{\\matrix{A}}\\\\\n",
    "\\text{ are called similar if there exists an invertible n - by - n matrix T such that} \\\\\n",
    "\\mathbf{\\tilde{\\matrix{A}}} = \\matrix{T}^{-1} \\cdot \\matrix{A} \\cdot \\matrix{T} \\\\\n",
    "\\text{As the name suggests, the two matrices A and } \\tilde{A} \\text{ are similar in the sense that } \\\\ \n",
    "\\text{they share some similar (or closely related) properties.}\n",
    "$$"
   ]
  },
  {
   "cell_type": "markdown",
   "metadata": {
    "hidden": true
   },
   "source": [
    "#### Property 1: Same determinant"
   ]
  },
  {
   "cell_type": "markdown",
   "metadata": {
    "hidden": true
   },
   "source": [
    "$$\n",
    "| \\tilde{A} | = | T^{-1} A T |\n",
    "$$\n",
    "\n",
    "$$\n",
    "= | T^{-1} | \\cdot | A | \\cdot | T | \\quad \\text{recall:} \\quad | M^{-1} | = | M |^{-1}\n",
    "$$\n",
    "\n",
    "$$\n",
    "= | T^{-1} | \\cdot | A | \\cdot | T |\n",
    "$$\n",
    "\n",
    "$$\n",
    "= \\frac{1}{| T |} \\cdot | A | \\cdot | T |\n",
    "$$\n",
    "\n",
    "$$\n",
    "| \\tilde{A} | = | A | \\quad \n",
    "$$"
   ]
  },
  {
   "cell_type": "markdown",
   "metadata": {
    "hidden": true
   },
   "source": [
    "#### Property 2: Same characteristic equations (and therefore same eigenvalues)"
   ]
  },
  {
   "cell_type": "markdown",
   "metadata": {
    "hidden": true
   },
   "source": [
    " $$\\text{np.linalg.eig(A) = np.linalg.eig(}\\tilde{A})$$"
   ]
  },
  {
   "cell_type": "markdown",
   "metadata": {
    "hidden": true
   },
   "source": [
    "#### Property 3: Similar eigenvectors (not same eigenvectors)"
   ]
  },
  {
   "cell_type": "markdown",
   "metadata": {
    "hidden": true
   },
   "source": [
    "$$\\text{Recall that:}$$\n",
    "$$\n",
    "\\text{eigenvectors(}\\tilde{A}\\text{) = }\\mathbf{T}^{-1} \\cdot \\text{eigenvectors(A)}\n",
    "$$"
   ]
  },
  {
   "cell_type": "markdown",
   "metadata": {
    "hidden": true
   },
   "source": [
    "#### Popoerty 4: Same trace"
   ]
  },
  {
   "cell_type": "markdown",
   "metadata": {
    "hidden": true
   },
   "source": [
    "$$\\text{Recall that the trace of a matrix is simply the sum of the diagonal elements. Trace is only defined for\n",
    "square matrices.}$$"
   ]
  },
  {
   "cell_type": "markdown",
   "metadata": {
    "hidden": true
   },
   "source": [
    "#### Property 5: Same rank"
   ]
  },
  {
   "cell_type": "markdown",
   "metadata": {
    "hidden": true
   },
   "source": [
    "$$\n",
    "\\textbf{Rank indicates the maximum number of linearly independent rows or columns in the matrix.} \\\\\n",
    "\\textbf{Hence rank(A) = rank(} \\tilde{A}\\textbf{)}$$"
   ]
  },
  {
   "cell_type": "markdown",
   "metadata": {
    "heading_collapsed": true,
    "hidden": true
   },
   "source": [
    "### Example"
   ]
  },
  {
   "cell_type": "markdown",
   "metadata": {
    "heading_collapsed": true,
    "hidden": true
   },
   "source": [
    "#### Main used matrices"
   ]
  },
  {
   "cell_type": "code",
   "execution_count": null,
   "metadata": {
    "hidden": true
   },
   "outputs": [],
   "source": [
    "A = np.array([[3, 4, 2, 1],\n",
    "                  [0, 1, -1, -1],\n",
    "                  [-1, -1, 3, 0],\n",
    "                  [1, 1, -1, 2]])\n",
    "\n",
    "# Chose a similarity transformation matrix\n",
    "T = np.array([[1, 2/7, 4, -3],\n",
    "              [2, 1, 2, 3/4],\n",
    "              [-2, 2/3, 3/4, 2],\n",
    "              [-5/6, -5, 8, 6]])\n",
    "\n",
    "T_inv = np.linalg.inv(T)\n",
    "\n",
    "# Ensure that T is invertible\n",
    "det_T = np.linalg.det(T)\n",
    "print(f\"Determinant of T: {det_T}\")\n",
    "\n",
    "# A tilde\n",
    "A_tilde = np.dot(np.dot(T_inv, A), T)"
   ]
  },
  {
   "cell_type": "markdown",
   "metadata": {
    "heading_collapsed": true,
    "hidden": true
   },
   "source": [
    "#### Testing Property 1: Same determinant\n",
    "$$\n",
    "| \\tilde{A} | = | A | \\quad \n",
    "$$"
   ]
  },
  {
   "cell_type": "code",
   "execution_count": null,
   "metadata": {
    "hidden": true
   },
   "outputs": [],
   "source": [
    "det_A = np.linalg.det(A)\n",
    "det_A_tilde = np.linalg.det(A_tilde)\n",
    "print(f\"Property 1: Same determinant - Det(A): {det_A: 0.0f}, Det(A_tilde): {det_A_tilde: 0.0f}\")"
   ]
  },
  {
   "cell_type": "markdown",
   "metadata": {
    "heading_collapsed": true,
    "hidden": true
   },
   "source": [
    "#### Testing Property 2: Same Eigenvalues\n",
    " $$\\text{np.linalg.eig(A) = np.linalg.eig(}\\tilde{A})$$"
   ]
  },
  {
   "cell_type": "code",
   "execution_count": null,
   "metadata": {
    "hidden": true
   },
   "outputs": [],
   "source": [
    "A_eig_values = np.linalg.eig(A)[0]\n",
    "A_tilde_eig_values = np.linalg.eig(A_tilde)[0]\n",
    "\n",
    "# Print eigenvalues of A and A_tilde as integers\n",
    "print(f'Eigenvalues of A = {\" \".join([str(int(val)) for val in A_eig_values])}')\n",
    "print(f'Eigenvalues of A_tilde = {\" \".join([str(int(val)) for val in A_tilde_eig_values])}')"
   ]
  },
  {
   "cell_type": "markdown",
   "metadata": {
    "heading_collapsed": true,
    "hidden": true
   },
   "source": [
    "#### Testing Property 3: Similar eigenvectors (not same eigenvectors)\n",
    "$$\\text{Recall that:}$$\n",
    "$$\n",
    "\\text{eigenvectors(}\\matrix{A}\\text{) = }\\mathbf{T}^{-1} \\cdot \\text{eigenvectors(A)}\n",
    "$$"
   ]
  },
  {
   "cell_type": "code",
   "execution_count": null,
   "metadata": {
    "hidden": true
   },
   "outputs": [],
   "source": [
    "eig_values_A, eig_vectors_A = np.linalg.eig(A)\n",
    "eig_values_A_tilde, eig_vectors_A_tilde = np.linalg.eig(A_tilde)\n",
    "\n",
    "eigVec_tilde = T_inv @ eig_vectors_A\n",
    "\n",
    "# Check if A_tilde * eigenvector is equal to the eigenvalue * eigenvector\n",
    "def are_matrices_same(mat1, mat2, tol=1e-10):\n",
    "    return np.allclose(mat1, mat2, atol=tol)\n",
    "\n",
    "for i in range(len(eig_values_A)):\n",
    "    left_side = A_tilde @ eigVec_tilde[:, i]\n",
    "    right_side = eig_values_A[i] * eigVec_tilde[:, i]\n",
    "    print(f\"Property 3: Similar eigenvectors (check for eigenvector {i+1}):\")\n",
    "    print(f\"Are they the same? {are_matrices_same(left_side, right_side)}\")"
   ]
  },
  {
   "cell_type": "markdown",
   "metadata": {
    "heading_collapsed": true,
    "hidden": true
   },
   "source": [
    "#### Testing Property 4: Same Trace"
   ]
  },
  {
   "cell_type": "code",
   "execution_count": null,
   "metadata": {
    "hidden": true
   },
   "outputs": [],
   "source": [
    "trace_A = np.trace(A)\n",
    "trace_A_tilde = np.trace(A_tilde)\n",
    "print(f\"Property 4: Same trace - Trace(A): {trace_A}, Trace(A_tilde): {trace_A_tilde}\")"
   ]
  },
  {
   "cell_type": "markdown",
   "metadata": {
    "heading_collapsed": true,
    "hidden": true
   },
   "source": [
    "#### Testing Property 5: Same Rank"
   ]
  },
  {
   "cell_type": "code",
   "execution_count": null,
   "metadata": {
    "hidden": true
   },
   "outputs": [],
   "source": [
    "rank_A = np.linalg.matrix_rank(A)\n",
    "rank_A_tilde = np.linalg.matrix_rank(A_tilde)\n",
    "print(f\"Property 5: Same rank - Rank(A): {rank_A}, Rank(A_tilde): {rank_A_tilde}\")"
   ]
  },
  {
   "cell_type": "markdown",
   "metadata": {
    "heading_collapsed": true
   },
   "source": [
    "## Resources"
   ]
  },
  {
   "cell_type": "markdown",
   "metadata": {
    "heading_collapsed": true,
    "hidden": true
   },
   "source": [
    "### Youtube videos"
   ]
  },
  {
   "cell_type": "markdown",
   "metadata": {
    "hidden": true
   },
   "source": [
    "#### [Similarity Transofrmation and Diagonalization by Christopher Lum](https://www.youtube.com/watch?v=wvRlvDYDIgw)"
   ]
  },
  {
   "cell_type": "markdown",
   "metadata": {
    "hidden": true
   },
   "source": [
    "#### [Similar Matrices By Gilbert Strang \"MIT\"](https://www.youtube.com/watch?v=LKMGo8G7-vk)"
   ]
  },
  {
   "cell_type": "markdown",
   "metadata": {
    "hidden": true
   },
   "source": [
    "#### [Example on applying similarity transformation on Linear Dynamic Model](https://www.youtube.com/watch?v=XMkLNHUmTQM)"
   ]
  },
  {
   "cell_type": "markdown",
   "metadata": {
    "heading_collapsed": true,
    "hidden": true
   },
   "source": [
    "### Github used Repositories"
   ]
  },
  {
   "cell_type": "markdown",
   "metadata": {
    "hidden": true
   },
   "source": [
    "1. [Intro to linear Algebra by John Krohn part-1](https://github.com/jonkrohn/ML-foundations/blob/master/notebooks/1-intro-to-linear-algebra.ipynb)\n",
    "2. [Intro to Linear Algebra by John Krohn part-2](https://github.com/jonkrohn/ML-foundations/blob/master/notebooks/2-linear-algebra-ii.ipynb)"
   ]
  }
 ],
 "metadata": {
  "celltoolbar": "Raw Cell Format",
  "kernelspec": {
   "display_name": "Python 3 (ipykernel)",
   "language": "python",
   "name": "python3"
  },
  "language_info": {
   "codemirror_mode": {
    "name": "ipython",
    "version": 3
   },
   "file_extension": ".py",
   "mimetype": "text/x-python",
   "name": "python",
   "nbconvert_exporter": "python",
   "pygments_lexer": "ipython3",
   "version": "3.12.3"
  }
 },
 "nbformat": 4,
 "nbformat_minor": 2
}
